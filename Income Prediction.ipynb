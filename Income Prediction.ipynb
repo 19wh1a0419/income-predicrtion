{
 "cells": [
  {
   "cell_type": "markdown",
   "metadata": {
    "id": "YDkn--vjlx9I"
   },
   "source": [
    "# Income Prediction\n",
    "\n",
    "This is a 2-class classification problem (income **high** or **low**). There are 32561 instances and 14 features. Target value is the last (income) column, 0 for low income, 1 for high income. There are no missing values, but some values are categorical (like education and marital status). They need to be converted to numerical values (integers) to be processed by most machine learning algorithms.\n"
   ]
  },
  {
   "cell_type": "markdown",
   "metadata": {
    "id": "qfxLzQ4Li8Xm"
   },
   "source": [
    " You can download the dataset as follows. Using any other income prediction dataset from Internet sources is NOT allowed."
   ]
  },
  {
   "cell_type": "code",
   "execution_count": 1,
   "metadata": {
    "ExecuteTime": {
     "end_time": "2020-03-30T03:25:11.738051Z",
     "start_time": "2020-03-30T03:25:11.709196Z"
    },
    "id": "wlfOrZ7YwK84"
   },
   "outputs": [
    {
     "name": "stdout",
     "output_type": "stream",
     "text": [
      "Cloning into 'DATA602repo'...\n",
      "remote: Enumerating objects: 77, done.\u001b[K\n",
      "remote: Counting objects: 100% (23/23), done.\u001b[K\n",
      "remote: Compressing objects: 100% (20/20), done.\u001b[K\n",
      "remote: Total 77 (delta 9), reused 7 (delta 3), pack-reused 54\u001b[K\n",
      "Receiving objects: 100% (77/77), 9.09 MiB | 9.77 MiB/s, done.\n",
      "Resolving deltas: 100% (25/25), done.\n"
     ]
    }
   ],
   "source": [
    "!git clone https://github.com/cvrg-iyte/DATA602repo.git\n",
    "url =  \"./DATA602repo/income2.data\"\n",
    "names = ['age', 'workclass', 'fnlwgt', 'education', 'education-num', 'marital-status', 'occupation', 'relationship', 'race', 'sex', 'capital-gain', 'capital-loss', 'hours-per-week', 'native-country', 'income']\n",
    "import pandas as pd\n",
    "data = pd.read_csv(url, header=None, names=names)\n"
   ]
  },
  {
   "cell_type": "markdown",
   "metadata": {
    "id": "7IBAp8mWkWCj"
   },
   "source": [
    "\n",
    "You are supposed to try different classification methods and apply best practices we have seen in the lectures such as grid search, cross validation, regularization and feature extraction/selection (if relevant)."
   ]
  },
  {
   "cell_type": "code",
   "execution_count": 2,
   "metadata": {},
   "outputs": [
    {
     "name": "stdout",
     "output_type": "stream",
     "text": [
      "       age          workclass  fnlwgt    education  education-num  \\\n",
      "0       39          State-gov   77516    Bachelors             13   \n",
      "1       50   Self-emp-not-inc   83311    Bachelors             13   \n",
      "2       38            Private  215646      HS-grad              9   \n",
      "3       53            Private  234721         11th              7   \n",
      "4       28            Private  338409    Bachelors             13   \n",
      "...    ...                ...     ...          ...            ...   \n",
      "32556   27            Private  257302   Assoc-acdm             12   \n",
      "32557   40            Private  154374      HS-grad              9   \n",
      "32558   58            Private  151910      HS-grad              9   \n",
      "32559   22            Private  201490      HS-grad              9   \n",
      "32560   52       Self-emp-inc  287927      HS-grad              9   \n",
      "\n",
      "            marital-status          occupation    relationship    race  \\\n",
      "0            Never-married        Adm-clerical   Not-in-family   White   \n",
      "1       Married-civ-spouse     Exec-managerial         Husband   White   \n",
      "2                 Divorced   Handlers-cleaners   Not-in-family   White   \n",
      "3       Married-civ-spouse   Handlers-cleaners         Husband   Black   \n",
      "4       Married-civ-spouse      Prof-specialty            Wife   Black   \n",
      "...                    ...                 ...             ...     ...   \n",
      "32556   Married-civ-spouse        Tech-support            Wife   White   \n",
      "32557   Married-civ-spouse   Machine-op-inspct         Husband   White   \n",
      "32558              Widowed        Adm-clerical       Unmarried   White   \n",
      "32559        Never-married        Adm-clerical       Own-child   White   \n",
      "32560   Married-civ-spouse     Exec-managerial            Wife   White   \n",
      "\n",
      "           sex  capital-gain  capital-loss  hours-per-week  native-country  \\\n",
      "0         Male          2174             0              40   United-States   \n",
      "1         Male             0             0              13   United-States   \n",
      "2         Male             0             0              40   United-States   \n",
      "3         Male             0             0              40   United-States   \n",
      "4       Female             0             0              40            Cuba   \n",
      "...        ...           ...           ...             ...             ...   \n",
      "32556   Female             0             0              38   United-States   \n",
      "32557     Male             0             0              40   United-States   \n",
      "32558   Female             0             0              40   United-States   \n",
      "32559     Male             0             0              20   United-States   \n",
      "32560   Female         15024             0              40   United-States   \n",
      "\n",
      "       income  \n",
      "0           0  \n",
      "1           0  \n",
      "2           0  \n",
      "3           0  \n",
      "4           0  \n",
      "...       ...  \n",
      "32556       0  \n",
      "32557       1  \n",
      "32558       0  \n",
      "32559       0  \n",
      "32560       1  \n",
      "\n",
      "[32561 rows x 15 columns]\n"
     ]
    }
   ],
   "source": [
    "print(data)"
   ]
  },
  {
   "cell_type": "code",
   "execution_count": 12,
   "metadata": {},
   "outputs": [
    {
     "name": "stdout",
     "output_type": "stream",
     "text": [
      "\n",
      "Preprocessed Data (First few rows):\n",
      "       cat__workclass_ ?  cat__workclass_ Federal-gov  \\\n",
      "0                    0.0                          0.0   \n",
      "1                    0.0                          0.0   \n",
      "2                    0.0                          0.0   \n",
      "3                    0.0                          0.0   \n",
      "4                    0.0                          0.0   \n",
      "...                  ...                          ...   \n",
      "32556                0.0                          0.0   \n",
      "32557                0.0                          0.0   \n",
      "32558                0.0                          0.0   \n",
      "32559                0.0                          0.0   \n",
      "32560                0.0                          0.0   \n",
      "\n",
      "       cat__workclass_ Local-gov  cat__workclass_ Never-worked  \\\n",
      "0                            0.0                           0.0   \n",
      "1                            0.0                           0.0   \n",
      "2                            0.0                           0.0   \n",
      "3                            0.0                           0.0   \n",
      "4                            0.0                           0.0   \n",
      "...                          ...                           ...   \n",
      "32556                        0.0                           0.0   \n",
      "32557                        0.0                           0.0   \n",
      "32558                        0.0                           0.0   \n",
      "32559                        0.0                           0.0   \n",
      "32560                        0.0                           0.0   \n",
      "\n",
      "       cat__workclass_ Private  cat__workclass_ Self-emp-inc  \\\n",
      "0                          0.0                           0.0   \n",
      "1                          0.0                           0.0   \n",
      "2                          1.0                           0.0   \n",
      "3                          1.0                           0.0   \n",
      "4                          1.0                           0.0   \n",
      "...                        ...                           ...   \n",
      "32556                      1.0                           0.0   \n",
      "32557                      1.0                           0.0   \n",
      "32558                      1.0                           0.0   \n",
      "32559                      1.0                           0.0   \n",
      "32560                      0.0                           1.0   \n",
      "\n",
      "       cat__workclass_ Self-emp-not-inc  cat__workclass_ State-gov  \\\n",
      "0                                   0.0                        1.0   \n",
      "1                                   1.0                        0.0   \n",
      "2                                   0.0                        0.0   \n",
      "3                                   0.0                        0.0   \n",
      "4                                   0.0                        0.0   \n",
      "...                                 ...                        ...   \n",
      "32556                               0.0                        0.0   \n",
      "32557                               0.0                        0.0   \n",
      "32558                               0.0                        0.0   \n",
      "32559                               0.0                        0.0   \n",
      "32560                               0.0                        0.0   \n",
      "\n",
      "       cat__workclass_ Without-pay  cat__education_ 10th  ...  \\\n",
      "0                              0.0                   0.0  ...   \n",
      "1                              0.0                   0.0  ...   \n",
      "2                              0.0                   0.0  ...   \n",
      "3                              0.0                   0.0  ...   \n",
      "4                              0.0                   0.0  ...   \n",
      "...                            ...                   ...  ...   \n",
      "32556                          0.0                   0.0  ...   \n",
      "32557                          0.0                   0.0  ...   \n",
      "32558                          0.0                   0.0  ...   \n",
      "32559                          0.0                   0.0  ...   \n",
      "32560                          0.0                   0.0  ...   \n",
      "\n",
      "       cat__native-country_ Portugal  cat__native-country_ Puerto-Rico  \\\n",
      "0                                0.0                               0.0   \n",
      "1                                0.0                               0.0   \n",
      "2                                0.0                               0.0   \n",
      "3                                0.0                               0.0   \n",
      "4                                0.0                               0.0   \n",
      "...                              ...                               ...   \n",
      "32556                            0.0                               0.0   \n",
      "32557                            0.0                               0.0   \n",
      "32558                            0.0                               0.0   \n",
      "32559                            0.0                               0.0   \n",
      "32560                            0.0                               0.0   \n",
      "\n",
      "       cat__native-country_ Scotland  cat__native-country_ South  \\\n",
      "0                                0.0                         0.0   \n",
      "1                                0.0                         0.0   \n",
      "2                                0.0                         0.0   \n",
      "3                                0.0                         0.0   \n",
      "4                                0.0                         0.0   \n",
      "...                              ...                         ...   \n",
      "32556                            0.0                         0.0   \n",
      "32557                            0.0                         0.0   \n",
      "32558                            0.0                         0.0   \n",
      "32559                            0.0                         0.0   \n",
      "32560                            0.0                         0.0   \n",
      "\n",
      "       cat__native-country_ Taiwan  cat__native-country_ Thailand  \\\n",
      "0                              0.0                            0.0   \n",
      "1                              0.0                            0.0   \n",
      "2                              0.0                            0.0   \n",
      "3                              0.0                            0.0   \n",
      "4                              0.0                            0.0   \n",
      "...                            ...                            ...   \n",
      "32556                          0.0                            0.0   \n",
      "32557                          0.0                            0.0   \n",
      "32558                          0.0                            0.0   \n",
      "32559                          0.0                            0.0   \n",
      "32560                          0.0                            0.0   \n",
      "\n",
      "       cat__native-country_ Trinadad&Tobago  \\\n",
      "0                                       0.0   \n",
      "1                                       0.0   \n",
      "2                                       0.0   \n",
      "3                                       0.0   \n",
      "4                                       0.0   \n",
      "...                                     ...   \n",
      "32556                                   0.0   \n",
      "32557                                   0.0   \n",
      "32558                                   0.0   \n",
      "32559                                   0.0   \n",
      "32560                                   0.0   \n",
      "\n",
      "       cat__native-country_ United-States  cat__native-country_ Vietnam  \\\n",
      "0                                     1.0                           0.0   \n",
      "1                                     1.0                           0.0   \n",
      "2                                     1.0                           0.0   \n",
      "3                                     1.0                           0.0   \n",
      "4                                     0.0                           0.0   \n",
      "...                                   ...                           ...   \n",
      "32556                                 1.0                           0.0   \n",
      "32557                                 1.0                           0.0   \n",
      "32558                                 1.0                           0.0   \n",
      "32559                                 1.0                           0.0   \n",
      "32560                                 1.0                           0.0   \n",
      "\n",
      "       cat__native-country_ Yugoslavia  \n",
      "0                                  0.0  \n",
      "1                                  0.0  \n",
      "2                                  0.0  \n",
      "3                                  0.0  \n",
      "4                                  0.0  \n",
      "...                                ...  \n",
      "32556                              0.0  \n",
      "32557                              0.0  \n",
      "32558                              0.0  \n",
      "32559                              0.0  \n",
      "32560                              0.0  \n",
      "\n",
      "[32561 rows x 102 columns]\n"
     ]
    }
   ],
   "source": [
    "import pandas as pd\n",
    "from sklearn.model_selection import train_test_split, GridSearchCV\n",
    "from sklearn.preprocessing import OneHotEncoder\n",
    "from sklearn.compose import ColumnTransformer\n",
    "from sklearn.pipeline import Pipeline\n",
    "from sklearn.linear_model import LogisticRegression\n",
    "from sklearn.ensemble import RandomForestClassifier\n",
    "from sklearn.svm import SVC\n",
    "from sklearn.metrics import classification_report\n",
    "categorical_features = ['workclass', 'education', 'marital-status', 'occupation', 'relationship', 'race', 'sex', 'native-country']\n",
    "categorical_transformer = OneHotEncoder(handle_unknown='ignore')\n",
    "preprocessor = ColumnTransformer(\n",
    "    transformers=[\n",
    "        ('cat', categorical_transformer, categorical_features)\n",
    "    ])\n",
    "\n",
    "# Apply preprocessing to training data\n",
    "X_preprocessed = preprocessor.fit_transform(X)\n",
    "\n",
    "# Convert sparse matrix to DataFrame\n",
    "preprocessed_df = pd.DataFrame(X_preprocessed.toarray(), columns=preprocessor.get_feature_names_out())\n",
    "\n",
    "# Display the first few rows of the preprocessed dataset\n",
    "print(\"\\nPreprocessed Data (First few rows):\")\n",
    "print(preprocessed_df)"
   ]
  },
  {
   "cell_type": "code",
   "execution_count": 16,
   "metadata": {},
   "outputs": [
    {
     "name": "stdout",
     "output_type": "stream",
     "text": [
      "Model: Logistic Regression\n",
      "              precision    recall  f1-score   support\n",
      "\n",
      "           0       0.86      0.93      0.89      4942\n",
      "           1       0.70      0.53      0.60      1571\n",
      "\n",
      "    accuracy                           0.83      6513\n",
      "   macro avg       0.78      0.73      0.75      6513\n",
      "weighted avg       0.82      0.83      0.82      6513\n",
      "\n",
      "Model: Random Forest\n",
      "              precision    recall  f1-score   support\n",
      "\n",
      "           0       0.87      0.91      0.89      4942\n",
      "           1       0.67      0.57      0.61      1571\n",
      "\n",
      "    accuracy                           0.83      6513\n",
      "   macro avg       0.77      0.74      0.75      6513\n",
      "weighted avg       0.82      0.83      0.82      6513\n",
      "\n",
      "Model: Support Vector Machine\n",
      "              precision    recall  f1-score   support\n",
      "\n",
      "           0       0.86      0.93      0.89      4942\n",
      "           1       0.70      0.52      0.60      1571\n",
      "\n",
      "    accuracy                           0.83      6513\n",
      "   macro avg       0.78      0.72      0.74      6513\n",
      "weighted avg       0.82      0.83      0.82      6513\n",
      "\n"
     ]
    }
   ],
   "source": [
    "from sklearn.preprocessing import StandardScaler\n",
    "X = data.drop('income', axis=1)\n",
    "y = data['income']\n",
    "\n",
    "# Splitting the dataset into the Training set and Test set\n",
    "X_train, X_test, y_train, y_test = train_test_split(X, y, test_size=0.2, random_state=42)\n",
    "#scaler = StandardScaler()\n",
    "#X_train_scaled = scaler.fit_transform(X_train)\n",
    "\n",
    "models = {\n",
    "    'Logistic Regression': LogisticRegression(max_iter = 1000),\n",
    "    'Random Forest': RandomForestClassifier(),\n",
    "    'Support Vector Machine': SVC()\n",
    "}\n",
    "\n",
    "# Pipeline for each model\n",
    "pipelines = {}\n",
    "for name, model in models.items():\n",
    "    pipelines[name] = Pipeline([('preprocessor', preprocessor), ('clf', model)])\n",
    "\n",
    "# Define parameters for grid search\n",
    "param_grid = {\n",
    "    'Logistic Regression': {'clf__C': [0.001, 0.01, 0.1, 1, 10, 100]},\n",
    "    'Random Forest': {'clf__n_estimators': [100, 200, 300]},\n",
    "    'Support Vector Machine': {'clf__C': [0.1, 1, 10], 'clf__kernel': ['linear', 'rbf']}\n",
    "}\n",
    "\n",
    "# Grid search with cross-validation\n",
    "best_estimators = {}\n",
    "for name, pipeline in pipelines.items():\n",
    "    grid_search = GridSearchCV(pipeline, param_grid[name], cv=5, n_jobs=-1)\n",
    "    grid_search.fit(X_train, y_train)\n",
    "    best_estimators[name] = grid_search.best_estimator_\n",
    "\n",
    "# Evaluate models\n",
    "for name, model in best_estimators.items():\n",
    "    print(f\"Model: {name}\")\n",
    "    print(classification_report(y_test, model.predict(X_test)))\n"
   ]
  },
  {
   "cell_type": "code",
   "execution_count": 19,
   "metadata": {},
   "outputs": [
    {
     "name": "stderr",
     "output_type": "stream",
     "text": [
      "/Users/deepikakarlapudi/Desktop/anaconda3/lib/python3.11/site-packages/seaborn/_oldcore.py:1765: FutureWarning: unique with argument that is not not a Series, Index, ExtensionArray, or np.ndarray is deprecated and will raise in a future version.\n",
      "  order = pd.unique(vector)\n"
     ]
    },
    {
     "data": {
      "image/png": "[encoded data removed]",
      "text/plain": [
       "<Figure size 1000x600 with 1 Axes>"
      ]
     },
     "metadata": {},
     "output_type": "display_data"
    },
    {
     "name": "stderr",
     "output_type": "stream",
     "text": [
      "/Users/deepikakarlapudi/Desktop/anaconda3/lib/python3.11/site-packages/seaborn/_oldcore.py:1765: FutureWarning: unique with argument that is not not a Series, Index, ExtensionArray, or np.ndarray is deprecated and will raise in a future version.\n",
      "  order = pd.unique(vector)\n"
     ]
    },
    {
     "data": {
      "image/png": "[encoded data removed]",
      "text/plain": [
       "<Figure size 1000x600 with 1 Axes>"
      ]
     },
     "metadata": {},
     "output_type": "display_data"
    },
    {
     "name": "stderr",
     "output_type": "stream",
     "text": [
      "/Users/deepikakarlapudi/Desktop/anaconda3/lib/python3.11/site-packages/seaborn/_oldcore.py:1765: FutureWarning: unique with argument that is not not a Series, Index, ExtensionArray, or np.ndarray is deprecated and will raise in a future version.\n",
      "  order = pd.unique(vector)\n"
     ]
    },
    {
     "data": {
      "image/png": "[encoded data removed]",
      "text/plain": [
       "<Figure size 1000x600 with 1 Axes>"
      ]
     },
     "metadata": {},
     "output_type": "display_data"
    }
   ],
   "source": [
    "import matplotlib.pyplot as plt\n",
    "import seaborn as sns\n",
    "from sklearn.metrics import accuracy_score, precision_score, recall_score, f1_score\n",
    "\n",
    "# Define a function to calculate and plot performance metrics\n",
    "def plot_metrics(model_name, y_true, y_pred):\n",
    "    accuracy = accuracy_score(y_true, y_pred)\n",
    "    precision = precision_score(y_true, y_pred)\n",
    "    recall = recall_score(y_true, y_pred)\n",
    "    f1 = f1_score(y_true, y_pred)\n",
    "    \n",
    "    # Create a bar plot for each metric\n",
    "    plt.figure(figsize=(10, 6))\n",
    "    sns.barplot(x=['Accuracy', 'Precision', 'Recall', 'F1-Score'], y=[accuracy, precision, recall, f1])\n",
    "    plt.title(f'Performance Metrics for {model_name}')\n",
    "    plt.ylim(0, 1)\n",
    "    plt.show()\n",
    "\n",
    "# Evaluate and plot metrics for each model\n",
    "for model_name, model in best_estimators.items():\n",
    "    y_pred = model.predict(X_test)\n",
    "    plot_metrics(model_name, y_test, y_pred)\n"
   ]
  },
  {
   "cell_type": "code",
   "execution_count": null,
   "metadata": {},
   "outputs": [],
   "source": []
  }
 ],
 "metadata": {
  "colab": {
   "provenance": []
  },
  "gist": {
   "data": {
    "description": "Desktop/Side_projects/datacamp_exercises/Predicting Credit Card Approvals/predicting_credit_card_approval.ipynb",
    "public": false
   },
   "id": ""
  },
  "kernelspec": {
   "display_name": "Python 3 (ipykernel)",
   "language": "python",
   "name": "python3"
  },
  "language_info": {
   "codemirror_mode": {
    "name": "ipython",
    "version": 3
   },
   "file_extension": ".py",
   "mimetype": "text/x-python",
   "name": "python",
   "nbconvert_exporter": "python",
   "pygments_lexer": "ipython3",
   "version": "3.11.7"
  }
 },
 "nbformat": 4,
 "nbformat_minor": 4
}
